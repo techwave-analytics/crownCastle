{
 "cells": [
  {
   "cell_type": "code",
   "execution_count": null,
   "metadata": {},
   "outputs": [],
   "source": [
    "import pandas as pd\n",
    "from datetime import datetime"
   ]
  },
  {
   "cell_type": "code",
   "execution_count": null,
   "metadata": {},
   "outputs": [],
   "source": [
    "df = pd.read_excel('inspectionData_GBILITE.xlsx')"
   ]
  },
  {
   "cell_type": "code",
   "execution_count": null,
   "metadata": {
    "scrolled": true
   },
   "outputs": [],
   "source": [
    "print(df.shape)\n",
    "df.dtypes"
   ]
  },
  {
   "cell_type": "code",
   "execution_count": null,
   "metadata": {},
   "outputs": [],
   "source": [
    "df = df.replace('-','NaN')"
   ]
  },
  {
   "cell_type": "code",
   "execution_count": null,
   "metadata": {},
   "outputs": [],
   "source": [
    "df['GBI_Team'] = 'NaN'\n",
    "df['GBI_LITE'] = 'NaN'"
   ]
  },
  {
   "cell_type": "code",
   "execution_count": null,
   "metadata": {},
   "outputs": [],
   "source": [
    "special_acq_ports = ['ATT', 'BMI', 'BST', 'DCS']"
   ]
  },
  {
   "cell_type": "code",
   "execution_count": null,
   "metadata": {},
   "outputs": [],
   "source": [
    "df_GBI = df[df['ACQ_Port'].isin(special_acq_ports)]"
   ]
  },
  {
   "cell_type": "code",
   "execution_count": null,
   "metadata": {},
   "outputs": [],
   "source": [
    "df_temp = df.drop(df_GBI.index)"
   ]
  },
  {
   "cell_type": "code",
   "execution_count": null,
   "metadata": {},
   "outputs": [],
   "source": [
    "df1 = df_temp.sample(frac = 0.5)\n",
    "df2 = df_temp.drop(df1.index)"
   ]
  },
  {
   "cell_type": "code",
   "execution_count": null,
   "metadata": {},
   "outputs": [],
   "source": [
    "# rearranging the index\n",
    "\n",
    "df_GBI['index'] = range(len(df_GBI))\n",
    "df_GBI = df_GBI.set_index(['index'])\n",
    "\n",
    "df1['index'] = range(len(df1))\n",
    "df1 = df1.set_index(['index'])\n",
    "\n",
    "df2['index'] = range(len(df2))\n",
    "df2 = df2.set_index(['index'])"
   ]
  },
  {
   "cell_type": "code",
   "execution_count": null,
   "metadata": {},
   "outputs": [],
   "source": [
    "def assignTeam_specialACQ_Ports(df,x):\n",
    "    availableTeams = [df['lightingMaintenance_FOT'][x],\n",
    "                      df['towerMaintenance'][x],\n",
    "                      df['TIA_ClimbedInspection'][x],\n",
    "                      df['towerModificationVendor_or_Inspector'][x]]\n",
    "    try:\n",
    "        if min(d for d in availableTeams if isinstance(d, datetime)) <= df['scheduleGBI_Date'][x]:\n",
    "            if (df['lightingMaintenance_FOT'][x] == min(d for d in availableTeams if isinstance(d, datetime))):\n",
    "                df['GBI_Team'][x] = 'FOT'\n",
    "            if (df['towerMaintenance'][x] == min(d for d in availableTeams if isinstance(d, datetime))):\n",
    "                df['GBI_Team'][x] = 'TM'\n",
    "            if (df['TIA_ClimbedInspection'][x] == min(d for d in availableTeams if isinstance(d, datetime))):\n",
    "                df['GBI_Team'][x] = 'TIA'\n",
    "            if (df['towerModificationVendor_or_Inspector'][x] == min(d for d in availableTeams if isinstance(d, datetime))):\n",
    "                df['GBI_Team'][x] = 'TMV'\n",
    "        else:\n",
    "            df['GBI_Team'][x] = 'FOT'\n",
    "    except:\n",
    "        df['GBI_Team'][x] = 'FOT'"
   ]
  },
  {
   "cell_type": "code",
   "execution_count": null,
   "metadata": {},
   "outputs": [],
   "source": [
    "def assignTeam(df,x):\n",
    "    availableTeams = [df['pre-ConstructionSiteWalk1_CM'][x],\n",
    "                      df['pre-ConstructionSiteWalk2_CM'][x],\n",
    "                      df['pre-ConstructionSiteWalk3_CM'][x],\n",
    "                      df['pre-ModSiteWalk_CM_or_FOT'][x],\n",
    "                      df['towerMaintenance'][x],\n",
    "                      df['TIA_ClimbedInspection'][x],\n",
    "                      df['towerModificationVendor_or_Inspector'][x],\n",
    "                      df['vegetation1'][x],\n",
    "                      df['vegetation2'][x],\n",
    "                      df['constructionGC1'][x],\n",
    "                      df['constructionGC2'][x],\n",
    "                      df['constructionGC3'][x]]\n",
    "    try:\n",
    "        if (df['pre-ConstructionSiteWalk1_CM'][x] == min(d for d in availableTeams if isinstance(d, datetime))):\n",
    "            df['GBI_LITE'][x] = 'CM1'\n",
    "        if (df['pre-ConstructionSiteWalk2_CM'][x] == min(d for d in availableTeams if isinstance(d, datetime))):\n",
    "            df['GBI_LITE'][x] = 'CM2'\n",
    "        if (df['pre-ConstructionSiteWalk3_CM'][x] == min(d for d in availableTeams if isinstance(d, datetime))):\n",
    "            df['GBI_LITE'][x] = 'CM3'\n",
    "        if (df['pre-ModSiteWalk_CM_or_FOT'][x] == min(d for d in availableTeams if isinstance(d, datetime))):\n",
    "            df['GBI_LITE'][x] = 'CM/FOT'\n",
    "        if (df['towerMaintenance'][x] == min(d for d in availableTeams if isinstance(d, datetime))):\n",
    "            df['GBI_LITE'][x] = 'TM'\n",
    "        if (df['TIA_ClimbedInspection'][x] == min(d for d in availableTeams if isinstance(d, datetime))):\n",
    "            df['GBI_LITE'][x] = 'TIA'\n",
    "        if (df['towerModificationVendor_or_Inspector'][x] == min(d for d in availableTeams if isinstance(d, datetime))):\n",
    "            df['GBI_LITE'][x] = 'TMV'\n",
    "        if (df['vegetation1'][x] == min(d for d in availableTeams if isinstance(d, datetime))):\n",
    "            df['GBI_LITE'][x] = 'V1'\n",
    "        if (df['vegetation2'][x] == min(d for d in availableTeams if isinstance(d, datetime))):\n",
    "            df['GBI_LITE'][x] = 'V2'\n",
    "        if (df['constructionGC1'][x] == min(d for d in availableTeams if isinstance(d, datetime))):\n",
    "            df['GBI_LITE'][x] = 'CGC1'\n",
    "        if (df['constructionGC2'][x] == min(d for d in availableTeams if isinstance(d, datetime))):\n",
    "            df['GBI_LITE'][x] = 'CGC2'\n",
    "        if (df['constructionGC3'][x] == min(d for d in availableTeams if isinstance(d, datetime))):\n",
    "            df['GBI_LITE'][x] = 'CGC3'\n",
    "    except:\n",
    "        #print('exception')\n",
    "        df['GBI_Team'][x] = 'FOT'"
   ]
  },
  {
   "cell_type": "code",
   "execution_count": null,
   "metadata": {},
   "outputs": [],
   "source": [
    "for x in range(len(df_GBI)):\n",
    "    if df['inspectMaintainReq'][x] in ['Y', 'P']:\n",
    "        assignTeam_specialACQ_Ports(df_GBI, x)"
   ]
  },
  {
   "cell_type": "code",
   "execution_count": null,
   "metadata": {},
   "outputs": [],
   "source": [
    "for x in range(len(df1)):\n",
    "    if df1['inspectMaintainReq'][x] in ['Y', 'P']:\n",
    "        if df1['scheduleGBI_Date'][x] > datetime(2020,12,31):\n",
    "            assignTeam(df1, x)\n",
    "\n",
    "for x in range(len(df1)):\n",
    "    if df1['inspectMaintainReq'][x] in ['Y', 'P']:\n",
    "        if df1['scheduleGBI_Date'][x] <= datetime(2020,12,31):\n",
    "            assignTeam_specialACQ_Ports(df1, x)"
   ]
  },
  {
   "cell_type": "code",
   "execution_count": null,
   "metadata": {},
   "outputs": [],
   "source": [
    "for x in range(len(df2)):\n",
    "    if df2['inspectMaintainReq'][x] in ['Y', 'P']:\n",
    "        if df2['scheduleGBI_Date'][x] > datetime(2020,12,31):\n",
    "            assignTeam(df2, x)\n",
    "\n",
    "for x in range(len(df2)):\n",
    "    if df2['inspectMaintainReq'][x] in ['Y', 'P']:\n",
    "        if df2['scheduleGBI_Date'][x] <= datetime(2020,12,31):\n",
    "            assignTeam_specialACQ_Ports(df2, x)"
   ]
  },
  {
   "cell_type": "code",
   "execution_count": null,
   "metadata": {},
   "outputs": [],
   "source": [
    "df = df_GBI"
   ]
  },
  {
   "cell_type": "code",
   "execution_count": null,
   "metadata": {},
   "outputs": [],
   "source": [
    "df = df.append(df1)\n",
    "df = df.append(df2)"
   ]
  },
  {
   "cell_type": "code",
   "execution_count": null,
   "metadata": {},
   "outputs": [],
   "source": [
    "df.to_excel('siteVisit_output_Scenario4.xlsx')"
   ]
  },
  {
   "cell_type": "code",
   "execution_count": null,
   "metadata": {},
   "outputs": [],
   "source": [
    "df.head()"
   ]
  },
  {
   "cell_type": "code",
   "execution_count": null,
   "metadata": {},
   "outputs": [],
   "source": [
    "visits = df.groupby('GBI_LITE').count()\n",
    "visits"
   ]
  },
  {
   "cell_type": "code",
   "execution_count": null,
   "metadata": {},
   "outputs": [],
   "source": []
  }
 ],
 "metadata": {
  "kernelspec": {
   "display_name": "Python 3",
   "language": "python",
   "name": "python3"
  },
  "language_info": {
   "codemirror_mode": {
    "name": "ipython",
    "version": 3
   },
   "file_extension": ".py",
   "mimetype": "text/x-python",
   "name": "python",
   "nbconvert_exporter": "python",
   "pygments_lexer": "ipython3",
   "version": "3.7.4"
  }
 },
 "nbformat": 4,
 "nbformat_minor": 2
}
